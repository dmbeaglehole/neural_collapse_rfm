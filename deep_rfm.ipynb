{
 "cells": [
  {
   "cell_type": "code",
   "execution_count": 1,
   "id": "412df036-776c-4750-8c2c-86bb52e7241b",
   "metadata": {
    "tags": []
   },
   "outputs": [],
   "source": [
    "%load_ext autoreload\n",
    "%autoreload 2"
   ]
  },
  {
   "cell_type": "code",
   "execution_count": 2,
   "id": "09be9fdb",
   "metadata": {
    "tags": []
   },
   "outputs": [
    {
     "name": "stdout",
     "output_type": "stream",
     "text": [
      "`eigenpro2` is not installed...\n",
      "Using `torch.linalg.solve` for training the kernel model\n",
      "\n",
      "WARNING: `torch.linalg.solve` scales poorly with the size of training dataset,\n",
      "          and may cause an `Out-of-Memory` error\n",
      "`eigenpro2` is a more scalable solver. To use, pass `method=\"eigenpro\"` to `model.fit()`\n",
      "To install `eigenpro2` visit https://github.com/EigenPro/EigenPro-pytorch/tree/pytorch/\n",
      "Importing\n"
     ]
    }
   ],
   "source": [
    "import torch\n",
    "import numpy as np\n",
    "\n",
    "import rfm\n",
    "\n",
    "import ntk\n",
    "\n",
    "import torch.nn as nn\n",
    "from tqdm import tqdm\n",
    "import os\n",
    "import matplotlib.pyplot as plt\n",
    "import torchvision\n",
    "import torchvision.transforms as transforms"
   ]
  },
  {
   "cell_type": "code",
   "execution_count": 48,
   "id": "168455e5-f11c-447e-b80c-be02cb8ed925",
   "metadata": {
    "tags": []
   },
   "outputs": [],
   "source": [
    "## variables\n",
    "os.environ['DATA_PATH'] = \"/scratch/bbjr/dbeaglehole/\"\n",
    "dataset = 'mnist'"
   ]
  },
  {
   "cell_type": "code",
   "execution_count": 59,
   "id": "0ea709c4-7e96-4afa-b8bb-6a1a00bef893",
   "metadata": {
    "tags": []
   },
   "outputs": [],
   "source": [
    "def one_hot_data(dataset, num_classes, num_samples):\n",
    "    Xs = []\n",
    "    ys = []\n",
    "\n",
    "    for ix in range(min(len(dataset),num_samples)):\n",
    "        X,y = dataset[ix]\n",
    "        Xs.append(X)\n",
    "\n",
    "        ohe_y = torch.zeros(num_classes)\n",
    "        ohe_y[y] = 1\n",
    "        ys.append(ohe_y)\n",
    "\n",
    "    return torch.stack(Xs), torch.stack(ys)\n",
    "\n",
    "def get_binary(dataset, classes):\n",
    "    c1, c2 = classes\n",
    "    \n",
    "    binary_dataset = []\n",
    "    for ix in tqdm(range(len(dataset))):\n",
    "        X,y = dataset[ix]\n",
    "        \n",
    "        if y==c1:\n",
    "            binary_dataset.append((X,0))\n",
    "        elif y==c2:\n",
    "            binary_dataset.append((X,1))\n",
    "\n",
    "    return binary_dataset\n",
    "\n",
    "if dataset=='mnist':\n",
    "    transform = transforms.Compose(\n",
    "        [\n",
    "            transforms.Resize((28, 28)),\n",
    "            transforms.ToTensor(),\n",
    "        ]\n",
    "    )\n",
    "\n",
    "    path = os.environ[\"DATA_PATH\"] + \"MNIST/\"\n",
    "    trainset = torchvision.datasets.MNIST(root=path,\n",
    "                                        train = True,\n",
    "                                        transform=transform,\n",
    "                                        download=True)\n",
    "    testset = torchvision.datasets.MNIST(root=path,\n",
    "                                        train = False,\n",
    "                                        transform=transform,\n",
    "                                        download=True)\n",
    "elif dataset=='cifar':\n",
    "    transform = transforms.Compose(\n",
    "        [\n",
    "            transforms.Resize((32, 32)),\n",
    "            transforms.ToTensor(),\n",
    "        ]\n",
    "    )\n",
    "\n",
    "    path = os.environ[\"DATA_PATH\"] + \"cifar10/\"\n",
    "\n",
    "    trainset = torchvision.datasets.CIFAR10(root=path,\n",
    "                                            train=True,\n",
    "                                            transform=transform,\n",
    "                                            download=True)\n",
    "    testset = torchvision.datasets.CIFAR10(root=path,\n",
    "                                           train=False,\n",
    "                                           transform=transform,\n",
    "                                           download=True)\n",
    "\n",
    "NUM_CLASSES = 10\n",
    "\n",
    "# NUM_CLASSES = 2\n",
    "# class1 = 3\n",
    "# class2 = 5\n",
    "# trainset = get_binary(trainset, classes=(class1, class2))\n",
    "# testset = get_binary(testset, classes=(class1, class2))\n",
    "\n",
    "n=2048\n",
    "train_X, train_y = one_hot_data(trainset, NUM_CLASSES, num_samples=n)\n",
    "test_X, test_y = one_hot_data(testset, NUM_CLASSES, num_samples=n)"
   ]
  },
  {
   "cell_type": "code",
   "execution_count": 60,
   "id": "26daa39d-0e81-41d3-9a34-497a9f0d237b",
   "metadata": {
    "tags": []
   },
   "outputs": [],
   "source": [
    "train_X = train_X.cuda()\n",
    "train_y = train_y.cuda()\n",
    "test_X = test_X.cuda()\n",
    "test_y = test_y.cuda()"
   ]
  },
  {
   "cell_type": "code",
   "execution_count": 61,
   "id": "2417bc3b-2a63-464f-bd84-6be1d1e7a76e",
   "metadata": {
    "tags": []
   },
   "outputs": [
    {
     "name": "stdout",
     "output_type": "stream",
     "text": [
      "torch.Size([2048, 1, 28, 28]) torch.Size([2048, 10])\n"
     ]
    }
   ],
   "source": [
    "## reorder data\n",
    "newXs = []\n",
    "newYs = []\n",
    "for c in range(NUM_CLASSES):\n",
    "    class1_idx = train_y[:,c] == 1\n",
    "    newYs.append(train_y[class1_idx])\n",
    "    newXs.append(train_X[class1_idx])\n",
    "\n",
    "train_X = torch.concat(newXs,dim=0)\n",
    "train_y = torch.concat(newYs,dim=0)\n",
    "print(train_X.shape, train_y.shape)"
   ]
  },
  {
   "cell_type": "code",
   "execution_count": null,
   "id": "68834a43-3b5f-418d-9040-e7c74235c9c4",
   "metadata": {
    "tags": []
   },
   "outputs": [],
   "source": [
    "train_y = train_y[:,0].unsqueeze(1)\n",
    "test_y = test_y[:,0].unsqueeze(1)"
   ]
  },
  {
   "cell_type": "code",
   "execution_count": 55,
   "id": "2d3a7548-21a3-4a9b-8a12-f3b23ef21154",
   "metadata": {
    "tags": []
   },
   "outputs": [],
   "source": [
    "def matrix_sqrt(M):\n",
    "    S, V = torch.linalg.eigh(M)\n",
    "    S[S<0] = 0\n",
    "    S = torch.diag(S**0.5)\n",
    "    return V @ S @ V.T\n",
    "    \n",
    "class Activation(nn.Module):\n",
    "    def __init__(self):\n",
    "        super(Activation, self).__init__()\n",
    "    def forward(self, x):\n",
    "        return nn.ReLU()(x)\n",
    "    \n",
    "def sample_feats(M, d, k):\n",
    "    weight_fn = nn.Linear(d, k, bias=False).to(M.device)\n",
    "    weight_fn.weight = nn.Parameter(weight_fn.weight@M, requires_grad=False)\n",
    "    return nn.Sequential(weight_fn, \n",
    "                      Activation()\n",
    "                     )"
   ]
  },
  {
   "cell_type": "code",
   "execution_count": 56,
   "id": "3b4d412f-3671-4e3a-8ee0-014f85fc5f35",
   "metadata": {
    "tags": []
   },
   "outputs": [],
   "source": [
    "import utils \n",
    "import ntk\n",
    "from functorch import jacrev, vmap\n",
    "\n",
    "def get_grads(alphas, train_X, Xs, M, ntk_depth=1):\n",
    "    \n",
    "    M_is_passed = M is not None\n",
    "    sqrtM = None\n",
    "    if M_is_passed:\n",
    "        sqrtM = utils.matrix_sqrt(M)\n",
    "    \n",
    "    def get_solo_grads(sol, X, x):\n",
    "        if M_is_passed:\n",
    "            X_M = X@sqrtM\n",
    "        else:\n",
    "            X_M = X\n",
    "            \n",
    "        print(\"X\",X.shape, 'x', x.shape, 'sol', sol.shape)\n",
    "    \n",
    "\n",
    "        def egop_fn(z):\n",
    "            if M_is_passed:\n",
    "                z_ = z@sqrtM\n",
    "            else:\n",
    "                z_ = z\n",
    "            K = ntk.ntk_relu(z_, X_M, M=None, depth=ntk_depth)[1]\n",
    "            # print(\"Inside egop X, z\", X_M.shape, z.shape)\n",
    "            # print(\"Inside egop K\", K.shape)\n",
    "            return (K@sol).squeeze()\n",
    "        grads = vmap(jacrev(egop_fn))(x.unsqueeze(1)).squeeze()\n",
    "        grads = torch.nan_to_num(grads)\n",
    "        return grads \n",
    "\n",
    "    n, d = train_X.shape\n",
    "    s = len(Xs)\n",
    "    \n",
    "    chunk = 1000\n",
    "    train_batches = torch.split(torch.arange(n), chunk)\n",
    "\n",
    "    egop = 0\n",
    "    G = 0\n",
    "    for btrain in train_batches:\n",
    "        G += get_solo_grads(alphas[btrain,:], train_X[btrain], Xs)\n",
    "    G = G.reshape(-1, d)\n",
    "    egop += G.T @ G/s\n",
    "\n",
    "    return egop"
   ]
  },
  {
   "cell_type": "code",
   "execution_count": 57,
   "id": "8aa4997c-8525-48c3-9134-838733019b33",
   "metadata": {
    "tags": []
   },
   "outputs": [],
   "source": [
    "def ntk_rfm(train_X, train_y, test_X, test_y, iters, reg, ntk_depth):\n",
    "    n, d = train_X.shape\n",
    "    M = None\n",
    "    for t in range(iters):\n",
    "        Ktrain = ntk.ntk_relu(train_X, depth=ntk_depth, M=M)[1]\n",
    "        Ktest = ntk.ntk_relu(test_X, train_X, depth=ntk_depth, M=M)[1]\n",
    "        \n",
    "        # print(\"Centering kernels\")\n",
    "        # a = torch.zeros((1,d)).to(train_X.device)\n",
    "        # b = torch.zeros((1,d)).to(train_X.device)\n",
    "        # a[0,0] = 1\n",
    "        # b[0,1] = 1     \n",
    "        # alpha = ntk.ntk_relu(a,b,depth=ntk_depth)[1].item()\n",
    "        # alpha /= 1\n",
    "        # Ktrain -= alpha*torch.ones(Ktrain.shape).to(Ktrain.device)\n",
    "        # Ktest -= alpha*torch.ones(Ktest.shape).to(Ktest.device)\n",
    "        \n",
    "        alphas = torch.linalg.solve(reg*torch.eye(n).to(Ktrain.device) + Ktrain, train_y)\n",
    "        ypred = Ktest@alphas\n",
    "        \n",
    "        acc = torch.mean(1.0*(torch.argmax(ypred,dim=1) == torch.argmax(test_y,dim=1))) * 100\n",
    "        mse = torch.mean(torch.sum((ypred - test_y)**2,axis=1))\n",
    "        \n",
    "        print(f'Round {t} accuracy: {acc}%')\n",
    "        print(f'Round {t} MSE: {mse}')\n",
    "        print()\n",
    "            \n",
    "        M = get_grads(alphas, train_X, train_X, M)\n",
    "        \n",
    "    return M"
   ]
  },
  {
   "cell_type": "code",
   "execution_count": 58,
   "id": "50521e20",
   "metadata": {
    "tags": []
   },
   "outputs": [
    {
     "ename": "RuntimeError",
     "evalue": "Detected the following values in `target`: tensor([-1.,  1.], device='cuda:0') but expected only the following values [0, 1].",
     "output_type": "error",
     "traceback": [
      "\u001b[0;31m---------------------------------------------------------------------------\u001b[0m",
      "\u001b[0;31mRuntimeError\u001b[0m                              Traceback (most recent call last)",
      "Cell \u001b[0;32mIn[58], line 32\u001b[0m\n\u001b[1;32m     30\u001b[0m \u001b[38;5;28;01mif\u001b[39;00m KERNEL \u001b[38;5;241m==\u001b[39m \u001b[38;5;124m'\u001b[39m\u001b[38;5;124mlaplace\u001b[39m\u001b[38;5;124m'\u001b[39m:\n\u001b[1;32m     31\u001b[0m     model \u001b[38;5;241m=\u001b[39m rfm\u001b[38;5;241m.\u001b[39mLaplaceRFM(bandwidth\u001b[38;5;241m=\u001b[39m\u001b[38;5;241m2.\u001b[39m, device\u001b[38;5;241m=\u001b[39m\u001b[38;5;124m\"\u001b[39m\u001b[38;5;124mcuda\u001b[39m\u001b[38;5;124m\"\u001b[39m)\n\u001b[0;32m---> 32\u001b[0m     \u001b[43mmodel\u001b[49m\u001b[38;5;241;43m.\u001b[39;49m\u001b[43mfit\u001b[49m\u001b[43m(\u001b[49m\n\u001b[1;32m     33\u001b[0m \u001b[43m        \u001b[49m\u001b[43m(\u001b[49m\u001b[43mtrain_X_deep\u001b[49m\u001b[43m,\u001b[49m\u001b[43m \u001b[49m\u001b[43mtrain_y\u001b[49m\u001b[43m)\u001b[49m\u001b[43m,\u001b[49m\u001b[43m \u001b[49m\n\u001b[1;32m     34\u001b[0m \u001b[43m        \u001b[49m\u001b[43m(\u001b[49m\u001b[43mtest_X_deep\u001b[49m\u001b[43m,\u001b[49m\u001b[43m \u001b[49m\u001b[43mtest_y\u001b[49m\u001b[43m)\u001b[49m\u001b[43m,\u001b[49m\u001b[43m \u001b[49m\n\u001b[1;32m     35\u001b[0m \u001b[43m        \u001b[49m\u001b[43mloader\u001b[49m\u001b[38;5;241;43m=\u001b[39;49m\u001b[38;5;28;43;01mFalse\u001b[39;49;00m\u001b[43m,\u001b[49m\u001b[43m \u001b[49m\n\u001b[1;32m     36\u001b[0m \u001b[43m        \u001b[49m\u001b[43miters\u001b[49m\u001b[38;5;241;43m=\u001b[39;49m\u001b[43mITERS\u001b[49m\u001b[43m,\u001b[49m\n\u001b[1;32m     37\u001b[0m \u001b[43m        \u001b[49m\u001b[43mclassif\u001b[49m\u001b[38;5;241;43m=\u001b[39;49m\u001b[38;5;28;43;01mTrue\u001b[39;49;00m\u001b[43m,\u001b[49m\n\u001b[1;32m     38\u001b[0m \u001b[43m        \u001b[49m\u001b[43mreg\u001b[49m\u001b[38;5;241;43m=\u001b[39;49m\u001b[38;5;241;43m0.\u001b[39;49m\n\u001b[1;32m     39\u001b[0m \u001b[43m    \u001b[49m\u001b[43m)\u001b[49m\n\u001b[1;32m     40\u001b[0m     M \u001b[38;5;241m=\u001b[39m model\u001b[38;5;241m.\u001b[39mM\n\u001b[1;32m     41\u001b[0m \u001b[38;5;28;01mif\u001b[39;00m KERNEL \u001b[38;5;241m==\u001b[39m \u001b[38;5;124m'\u001b[39m\u001b[38;5;124mgaussian\u001b[39m\u001b[38;5;124m'\u001b[39m:\n",
      "File \u001b[0;32m~/.local/lib/python3.9/site-packages/rfm/recursive_feature_machine.py:101\u001b[0m, in \u001b[0;36mRecursiveFeatureMachine.fit\u001b[0;34m(self, train_loader, test_loader, iters, name, reg, method, train_acc, loader, classif, return_mse, **kwargs)\u001b[0m\n\u001b[1;32m     98\u001b[0m \u001b[38;5;28mself\u001b[39m\u001b[38;5;241m.\u001b[39mfit_predictor(X_train, y_train, \u001b[38;5;241m*\u001b[39m\u001b[38;5;241m*\u001b[39mkwargs)\n\u001b[1;32m    100\u001b[0m \u001b[38;5;28;01mif\u001b[39;00m classif:\n\u001b[0;32m--> 101\u001b[0m     train_acc \u001b[38;5;241m=\u001b[39m \u001b[38;5;28;43mself\u001b[39;49m\u001b[38;5;241;43m.\u001b[39;49m\u001b[43mscore\u001b[49m\u001b[43m(\u001b[49m\u001b[43mX_train\u001b[49m\u001b[43m,\u001b[49m\u001b[43m \u001b[49m\u001b[43my_train\u001b[49m\u001b[43m,\u001b[49m\u001b[43m \u001b[49m\u001b[43mmetric\u001b[49m\u001b[38;5;241;43m=\u001b[39;49m\u001b[38;5;124;43m'\u001b[39;49m\u001b[38;5;124;43maccuracy\u001b[39;49m\u001b[38;5;124;43m'\u001b[39;49m\u001b[43m)\u001b[49m\n\u001b[1;32m    102\u001b[0m     \u001b[38;5;28mprint\u001b[39m(\u001b[38;5;124mf\u001b[39m\u001b[38;5;124m\"\u001b[39m\u001b[38;5;124mRound \u001b[39m\u001b[38;5;132;01m{\u001b[39;00mi\u001b[38;5;132;01m}\u001b[39;00m\u001b[38;5;124m, Train Acc: \u001b[39m\u001b[38;5;132;01m{\u001b[39;00m\u001b[38;5;241m100\u001b[39m\u001b[38;5;241m*\u001b[39mtrain_acc\u001b[38;5;132;01m:\u001b[39;00m\u001b[38;5;124m.2f\u001b[39m\u001b[38;5;132;01m}\u001b[39;00m\u001b[38;5;124m%\u001b[39m\u001b[38;5;124m\"\u001b[39m)\n\u001b[1;32m    103\u001b[0m     test_acc \u001b[38;5;241m=\u001b[39m \u001b[38;5;28mself\u001b[39m\u001b[38;5;241m.\u001b[39mscore(X_test, y_test, metric\u001b[38;5;241m=\u001b[39m\u001b[38;5;124m'\u001b[39m\u001b[38;5;124maccuracy\u001b[39m\u001b[38;5;124m'\u001b[39m)\n",
      "File \u001b[0;32m~/.local/lib/python3.9/site-packages/rfm/recursive_feature_machine.py:178\u001b[0m, in \u001b[0;36mRecursiveFeatureMachine.score\u001b[0;34m(self, samples, targets, metric)\u001b[0m\n\u001b[1;32m    176\u001b[0m num_classes \u001b[38;5;241m=\u001b[39m \u001b[38;5;28mlen\u001b[39m(torch\u001b[38;5;241m.\u001b[39munique(targets))\n\u001b[1;32m    177\u001b[0m \u001b[38;5;28;01mif\u001b[39;00m num_classes\u001b[38;5;241m==\u001b[39m\u001b[38;5;241m2\u001b[39m:\n\u001b[0;32m--> 178\u001b[0m     \u001b[38;5;28;01mreturn\u001b[39;00m \u001b[43maccuracy\u001b[49m\u001b[43m(\u001b[49m\u001b[43mpreds\u001b[49m\u001b[43m,\u001b[49m\u001b[43m \u001b[49m\u001b[43mtargets\u001b[49m\u001b[43m,\u001b[49m\u001b[43m \u001b[49m\u001b[43mtask\u001b[49m\u001b[38;5;241;43m=\u001b[39;49m\u001b[38;5;124;43m\"\u001b[39;49m\u001b[38;5;124;43mbinary\u001b[39;49m\u001b[38;5;124;43m\"\u001b[39;49m\u001b[43m)\u001b[49m\u001b[38;5;241m.\u001b[39mitem()\n\u001b[1;32m    179\u001b[0m \u001b[38;5;28;01melse\u001b[39;00m:\n\u001b[1;32m    180\u001b[0m     \u001b[38;5;28;01mreturn\u001b[39;00m accuracy(preds, targets, task\u001b[38;5;241m=\u001b[39m\u001b[38;5;124m\"\u001b[39m\u001b[38;5;124mmulticlass\u001b[39m\u001b[38;5;124m\"\u001b[39m, num_classes\u001b[38;5;241m=\u001b[39mnum_classes)\u001b[38;5;241m.\u001b[39mitem()\n",
      "File \u001b[0;32m~/.local/lib/python3.9/site-packages/torchmetrics/functional/classification/accuracy.py:417\u001b[0m, in \u001b[0;36maccuracy\u001b[0;34m(preds, target, task, threshold, num_classes, num_labels, average, multidim_average, top_k, ignore_index, validate_args)\u001b[0m\n\u001b[1;32m    414\u001b[0m task \u001b[38;5;241m=\u001b[39m ClassificationTask\u001b[38;5;241m.\u001b[39mfrom_str(task)\n\u001b[1;32m    416\u001b[0m \u001b[38;5;28;01mif\u001b[39;00m task \u001b[38;5;241m==\u001b[39m ClassificationTask\u001b[38;5;241m.\u001b[39mBINARY:\n\u001b[0;32m--> 417\u001b[0m     \u001b[38;5;28;01mreturn\u001b[39;00m \u001b[43mbinary_accuracy\u001b[49m\u001b[43m(\u001b[49m\u001b[43mpreds\u001b[49m\u001b[43m,\u001b[49m\u001b[43m \u001b[49m\u001b[43mtarget\u001b[49m\u001b[43m,\u001b[49m\u001b[43m \u001b[49m\u001b[43mthreshold\u001b[49m\u001b[43m,\u001b[49m\u001b[43m \u001b[49m\u001b[43mmultidim_average\u001b[49m\u001b[43m,\u001b[49m\u001b[43m \u001b[49m\u001b[43mignore_index\u001b[49m\u001b[43m,\u001b[49m\u001b[43m \u001b[49m\u001b[43mvalidate_args\u001b[49m\u001b[43m)\u001b[49m\n\u001b[1;32m    418\u001b[0m \u001b[38;5;28;01mif\u001b[39;00m task \u001b[38;5;241m==\u001b[39m ClassificationTask\u001b[38;5;241m.\u001b[39mMULTICLASS:\n\u001b[1;32m    419\u001b[0m     \u001b[38;5;28;01mif\u001b[39;00m \u001b[38;5;129;01mnot\u001b[39;00m \u001b[38;5;28misinstance\u001b[39m(num_classes, \u001b[38;5;28mint\u001b[39m):\n",
      "File \u001b[0;32m~/.local/lib/python3.9/site-packages/torchmetrics/functional/classification/accuracy.py:158\u001b[0m, in \u001b[0;36mbinary_accuracy\u001b[0;34m(preds, target, threshold, multidim_average, ignore_index, validate_args)\u001b[0m\n\u001b[1;32m    156\u001b[0m \u001b[38;5;28;01mif\u001b[39;00m validate_args:\n\u001b[1;32m    157\u001b[0m     _binary_stat_scores_arg_validation(threshold, multidim_average, ignore_index)\n\u001b[0;32m--> 158\u001b[0m     \u001b[43m_binary_stat_scores_tensor_validation\u001b[49m\u001b[43m(\u001b[49m\u001b[43mpreds\u001b[49m\u001b[43m,\u001b[49m\u001b[43m \u001b[49m\u001b[43mtarget\u001b[49m\u001b[43m,\u001b[49m\u001b[43m \u001b[49m\u001b[43mmultidim_average\u001b[49m\u001b[43m,\u001b[49m\u001b[43m \u001b[49m\u001b[43mignore_index\u001b[49m\u001b[43m)\u001b[49m\n\u001b[1;32m    159\u001b[0m preds, target \u001b[38;5;241m=\u001b[39m _binary_stat_scores_format(preds, target, threshold, ignore_index)\n\u001b[1;32m    160\u001b[0m tp, fp, tn, fn \u001b[38;5;241m=\u001b[39m _binary_stat_scores_update(preds, target, multidim_average)\n",
      "File \u001b[0;32m~/.local/lib/python3.9/site-packages/torchmetrics/functional/classification/stat_scores.py:72\u001b[0m, in \u001b[0;36m_binary_stat_scores_tensor_validation\u001b[0;34m(preds, target, multidim_average, ignore_index)\u001b[0m\n\u001b[1;32m     70\u001b[0m     check \u001b[38;5;241m=\u001b[39m torch\u001b[38;5;241m.\u001b[39many((unique_values \u001b[38;5;241m!=\u001b[39m \u001b[38;5;241m0\u001b[39m) \u001b[38;5;241m&\u001b[39m (unique_values \u001b[38;5;241m!=\u001b[39m \u001b[38;5;241m1\u001b[39m) \u001b[38;5;241m&\u001b[39m (unique_values \u001b[38;5;241m!=\u001b[39m ignore_index))\n\u001b[1;32m     71\u001b[0m \u001b[38;5;28;01mif\u001b[39;00m check:\n\u001b[0;32m---> 72\u001b[0m     \u001b[38;5;28;01mraise\u001b[39;00m \u001b[38;5;167;01mRuntimeError\u001b[39;00m(\n\u001b[1;32m     73\u001b[0m         \u001b[38;5;124mf\u001b[39m\u001b[38;5;124m\"\u001b[39m\u001b[38;5;124mDetected the following values in `target`: \u001b[39m\u001b[38;5;132;01m{\u001b[39;00munique_values\u001b[38;5;132;01m}\u001b[39;00m\u001b[38;5;124m but expected only\u001b[39m\u001b[38;5;124m\"\u001b[39m\n\u001b[1;32m     74\u001b[0m         \u001b[38;5;124mf\u001b[39m\u001b[38;5;124m\"\u001b[39m\u001b[38;5;124m the following values \u001b[39m\u001b[38;5;132;01m{\u001b[39;00m[\u001b[38;5;241m0\u001b[39m,\u001b[38;5;250m \u001b[39m\u001b[38;5;241m1\u001b[39m]\u001b[38;5;250m \u001b[39m\u001b[38;5;28;01mif\u001b[39;00m\u001b[38;5;250m \u001b[39mignore_index\u001b[38;5;250m \u001b[39m\u001b[38;5;129;01mis\u001b[39;00m\u001b[38;5;250m \u001b[39m\u001b[38;5;28;01mNone\u001b[39;00m\u001b[38;5;250m \u001b[39m\u001b[38;5;28;01melse\u001b[39;00m\u001b[38;5;250m \u001b[39m[ignore_index]\u001b[38;5;132;01m}\u001b[39;00m\u001b[38;5;124m.\u001b[39m\u001b[38;5;124m\"\u001b[39m\n\u001b[1;32m     75\u001b[0m     )\n\u001b[1;32m     77\u001b[0m \u001b[38;5;66;03m# If preds is label tensor, also check that it only contains [0,1] values\u001b[39;00m\n\u001b[1;32m     78\u001b[0m \u001b[38;5;28;01mif\u001b[39;00m \u001b[38;5;129;01mnot\u001b[39;00m preds\u001b[38;5;241m.\u001b[39mis_floating_point():\n",
      "\u001b[0;31mRuntimeError\u001b[0m: Detected the following values in `target`: tensor([-1.,  1.], device='cuda:0') but expected only the following values [0, 1]."
     ]
    }
   ],
   "source": [
    "%%capture\n",
    "\n",
    "DEPTH = 8\n",
    "ITERS = 1\n",
    "WIDTH = 2048\n",
    "# KERNEL='ntk'\n",
    "KERNEL='laplace'\n",
    "# KERNEL='gaussian'\n",
    "NTK_DEPTH=1\n",
    "\n",
    "train_X_deep = train_X.reshape(len(train_X),-1) \n",
    "test_X_deep = test_X.reshape(len(test_X),-1)\n",
    "\n",
    "XXs = []\n",
    "for dep in range(DEPTH):\n",
    "    print(f'Depth {dep} of DeepRFM')\n",
    "    \n",
    "    train_X_deep -= train_X_deep.mean(dim=0).unsqueeze(0)\n",
    "    \n",
    "    train_X_deep /= train_X_deep.norm(dim=-1).unsqueeze(1)\n",
    "    test_X_deep /= test_X_deep.norm(dim=-1).unsqueeze(1)\n",
    "    \n",
    "    \n",
    "    XX = (train_X_deep@train_X_deep.T).cpu()\n",
    "    XXs.append(XX)\n",
    "    \n",
    "    # plt.imshow(XX)\n",
    "    # plt.colorbar()\n",
    "    # plt.savefig(f'figures/dataset_{dataset}_layer_{dep}_inner_product_matrix_deepRFM',format='pdf')\n",
    "    # plt.close()\n",
    "    \n",
    "    if KERNEL == 'laplace':\n",
    "        model = rfm.LaplaceRFM(bandwidth=2., device=\"cuda\")\n",
    "        model.fit(\n",
    "            (train_X_deep, train_y), \n",
    "            (test_X_deep, test_y), \n",
    "            loader=False, \n",
    "            iters=ITERS,\n",
    "            classif=True,\n",
    "            reg=0.\n",
    "        )\n",
    "        M = model.M\n",
    "    if KERNEL == 'gaussian':\n",
    "        model = rfm.GaussRFM(bandwidth=2., device=\"cuda\")\n",
    "        model.fit(\n",
    "            (train_X_deep, train_y), \n",
    "            (test_X_deep, test_y), \n",
    "            loader=False, \n",
    "            iters=ITERS,\n",
    "            classif=True,\n",
    "            reg=0.\n",
    "        )\n",
    "        M = model.M\n",
    "    elif KERNEL == 'ntk':\n",
    "        M = ntk_rfm(\n",
    "            train_X_deep, train_y, \n",
    "            test_X_deep, test_y,\n",
    "            iters=ITERS,\n",
    "            reg=0.,\n",
    "            ntk_depth=NTK_DEPTH\n",
    "        )\n",
    "        \n",
    "    _, d = train_X_deep.shape\n",
    "\n",
    "    feature_fn = sample_feats(matrix_sqrt(M), d, WIDTH).cuda()\n",
    "    train_X_deep = feature_fn(train_X_deep)\n",
    "    test_X_deep = feature_fn(test_X_deep)\n",
    "    print('\\n\\n')"
   ]
  },
  {
   "cell_type": "code",
   "execution_count": 47,
   "id": "def8461c-cc7f-4349-a13a-2e257170f52c",
   "metadata": {
    "tags": []
   },
   "outputs": [],
   "source": [
    "def scale(A):\n",
    "    return (A - A.min())/(A.max() - A.min())"
   ]
  },
  {
   "cell_type": "code",
   "execution_count": 39,
   "id": "d3d90266-4296-4d07-8950-c060601f8640",
   "metadata": {
    "tags": []
   },
   "outputs": [
    {
     "ename": "IndexError",
     "evalue": "list index out of range",
     "output_type": "error",
     "traceback": [
      "\u001b[0;31m---------------------------------------------------------------------------\u001b[0m",
      "\u001b[0;31mIndexError\u001b[0m                                Traceback (most recent call last)",
      "Cell \u001b[0;32mIn[39], line 10\u001b[0m\n\u001b[1;32m      7\u001b[0m ax \u001b[38;5;241m=\u001b[39m axes[row][col]\n\u001b[1;32m      9\u001b[0m idx \u001b[38;5;241m=\u001b[39m \u001b[38;5;28mint\u001b[39m(row \u001b[38;5;241m*\u001b[39m PLOTS_PER_ROW) \u001b[38;5;241m+\u001b[39m col\n\u001b[0;32m---> 10\u001b[0m XX \u001b[38;5;241m=\u001b[39m \u001b[43mXXs\u001b[49m\u001b[43m[\u001b[49m\u001b[43midx\u001b[49m\u001b[43m]\u001b[49m\n\u001b[1;32m     11\u001b[0m ax\u001b[38;5;241m.\u001b[39mimshow(scale(XX))\n\u001b[1;32m     12\u001b[0m ax\u001b[38;5;241m.\u001b[39mset_xticks([])\n",
      "\u001b[0;31mIndexError\u001b[0m: list index out of range"
     ]
    },
    {
     "data": {
      "image/png": "[encoded data removed]",
      "text/plain": [
       "<Figure size 640x480 with 8 Axes>"
      ]
     },
     "metadata": {},
     "output_type": "display_data"
    }
   ],
   "source": [
    "PLOTS_PER_ROW=4\n",
    "NUM_ROWS = DEPTH//PLOTS_PER_ROW\n",
    "fig, axes = plt.subplots(NUM_ROWS, PLOTS_PER_ROW)\n",
    "\n",
    "for row in range(NUM_ROWS):\n",
    "    for col in range(PLOTS_PER_ROW):\n",
    "        ax = axes[row][col]\n",
    "        \n",
    "        idx = int(row * PLOTS_PER_ROW) + col\n",
    "        XX = XXs[idx]\n",
    "        ax.imshow(scale(XX))\n",
    "        ax.set_xticks([])\n",
    "        ax.set_yticks([])"
   ]
  },
  {
   "cell_type": "code",
   "execution_count": null,
   "id": "84e3f94c-2a95-4c8f-9897-95026dfde2f9",
   "metadata": {},
   "outputs": [],
   "source": []
  },
  {
   "cell_type": "code",
   "execution_count": null,
   "id": "4b208520-e6ec-4fdd-900a-39a43cefa42a",
   "metadata": {},
   "outputs": [],
   "source": []
  },
  {
   "cell_type": "code",
   "execution_count": null,
   "id": "41a62596-14dd-4e63-a2cf-c20fb3fb8f68",
   "metadata": {},
   "outputs": [],
   "source": []
  },
  {
   "cell_type": "code",
   "execution_count": 97,
   "id": "def1347a-f8dd-43a9-8b67-396bc3b87870",
   "metadata": {
    "tags": []
   },
   "outputs": [],
   "source": [
    "S, U = torch.linalg.eigh(M)"
   ]
  },
  {
   "cell_type": "code",
   "execution_count": 12,
   "id": "76c68515-5fde-4802-a035-940a97bcd077",
   "metadata": {
    "tags": []
   },
   "outputs": [
    {
     "ename": "TypeError",
     "evalue": "can't convert cuda:0 device type tensor to numpy. Use Tensor.cpu() to copy the tensor to host memory first.",
     "output_type": "error",
     "traceback": [
      "\u001b[0;31m---------------------------------------------------------------------------\u001b[0m",
      "\u001b[0;31mTypeError\u001b[0m                                 Traceback (most recent call last)",
      "Cell \u001b[0;32mIn[12], line 1\u001b[0m\n\u001b[0;32m----> 1\u001b[0m \u001b[43mplt\u001b[49m\u001b[38;5;241;43m.\u001b[39;49m\u001b[43msemilogy\u001b[49m\u001b[43m(\u001b[49m\u001b[43mS\u001b[49m\u001b[43m)\u001b[49m\n\u001b[1;32m      2\u001b[0m plt\u001b[38;5;241m.\u001b[39mxlabel(\u001b[38;5;124mr\u001b[39m\u001b[38;5;124m'\u001b[39m\u001b[38;5;124m$k$\u001b[39m\u001b[38;5;124m'\u001b[39m)\n\u001b[1;32m      3\u001b[0m plt\u001b[38;5;241m.\u001b[39mylabel(\u001b[38;5;124mr\u001b[39m\u001b[38;5;124m'\u001b[39m\u001b[38;5;124m$\u001b[39m\u001b[38;5;124m\\\u001b[39m\u001b[38;5;124mlambda_k$\u001b[39m\u001b[38;5;124m'\u001b[39m)\n",
      "File \u001b[0;32m/sw/external/python/anaconda3_gpu/lib/python3.9/site-packages/matplotlib/pyplot.py:2880\u001b[0m, in \u001b[0;36msemilogy\u001b[0;34m(*args, **kwargs)\u001b[0m\n\u001b[1;32m   2878\u001b[0m \u001b[38;5;129m@_copy_docstring_and_deprecators\u001b[39m(Axes\u001b[38;5;241m.\u001b[39msemilogy)\n\u001b[1;32m   2879\u001b[0m \u001b[38;5;28;01mdef\u001b[39;00m \u001b[38;5;21msemilogy\u001b[39m(\u001b[38;5;241m*\u001b[39margs, \u001b[38;5;241m*\u001b[39m\u001b[38;5;241m*\u001b[39mkwargs):\n\u001b[0;32m-> 2880\u001b[0m     \u001b[38;5;28;01mreturn\u001b[39;00m \u001b[43mgca\u001b[49m\u001b[43m(\u001b[49m\u001b[43m)\u001b[49m\u001b[38;5;241;43m.\u001b[39;49m\u001b[43msemilogy\u001b[49m\u001b[43m(\u001b[49m\u001b[38;5;241;43m*\u001b[39;49m\u001b[43margs\u001b[49m\u001b[43m,\u001b[49m\u001b[43m \u001b[49m\u001b[38;5;241;43m*\u001b[39;49m\u001b[38;5;241;43m*\u001b[39;49m\u001b[43mkwargs\u001b[49m\u001b[43m)\u001b[49m\n",
      "File \u001b[0;32m/sw/external/python/anaconda3_gpu/lib/python3.9/site-packages/matplotlib/axes/_axes.py:1923\u001b[0m, in \u001b[0;36mAxes.semilogy\u001b[0;34m(self, *args, **kwargs)\u001b[0m\n\u001b[1;32m   1919\u001b[0m d \u001b[38;5;241m=\u001b[39m {k: v \u001b[38;5;28;01mfor\u001b[39;00m k, v \u001b[38;5;129;01min\u001b[39;00m kwargs\u001b[38;5;241m.\u001b[39mitems()\n\u001b[1;32m   1920\u001b[0m      \u001b[38;5;28;01mif\u001b[39;00m k \u001b[38;5;129;01min\u001b[39;00m [\u001b[38;5;124m'\u001b[39m\u001b[38;5;124mbase\u001b[39m\u001b[38;5;124m'\u001b[39m, \u001b[38;5;124m'\u001b[39m\u001b[38;5;124msubs\u001b[39m\u001b[38;5;124m'\u001b[39m, \u001b[38;5;124m'\u001b[39m\u001b[38;5;124mnonpositive\u001b[39m\u001b[38;5;124m'\u001b[39m,\n\u001b[1;32m   1921\u001b[0m               \u001b[38;5;124m'\u001b[39m\u001b[38;5;124mbasey\u001b[39m\u001b[38;5;124m'\u001b[39m, \u001b[38;5;124m'\u001b[39m\u001b[38;5;124msubsy\u001b[39m\u001b[38;5;124m'\u001b[39m, \u001b[38;5;124m'\u001b[39m\u001b[38;5;124mnonposy\u001b[39m\u001b[38;5;124m'\u001b[39m]}\n\u001b[1;32m   1922\u001b[0m \u001b[38;5;28mself\u001b[39m\u001b[38;5;241m.\u001b[39mset_yscale(\u001b[38;5;124m'\u001b[39m\u001b[38;5;124mlog\u001b[39m\u001b[38;5;124m'\u001b[39m, \u001b[38;5;241m*\u001b[39m\u001b[38;5;241m*\u001b[39md)\n\u001b[0;32m-> 1923\u001b[0m \u001b[38;5;28;01mreturn\u001b[39;00m \u001b[38;5;28;43mself\u001b[39;49m\u001b[38;5;241;43m.\u001b[39;49m\u001b[43mplot\u001b[49m\u001b[43m(\u001b[49m\n\u001b[1;32m   1924\u001b[0m \u001b[43m    \u001b[49m\u001b[38;5;241;43m*\u001b[39;49m\u001b[43margs\u001b[49m\u001b[43m,\u001b[49m\u001b[43m \u001b[49m\u001b[38;5;241;43m*\u001b[39;49m\u001b[38;5;241;43m*\u001b[39;49m\u001b[43m{\u001b[49m\u001b[43mk\u001b[49m\u001b[43m:\u001b[49m\u001b[43m \u001b[49m\u001b[43mv\u001b[49m\u001b[43m \u001b[49m\u001b[38;5;28;43;01mfor\u001b[39;49;00m\u001b[43m \u001b[49m\u001b[43mk\u001b[49m\u001b[43m,\u001b[49m\u001b[43m \u001b[49m\u001b[43mv\u001b[49m\u001b[43m \u001b[49m\u001b[38;5;129;43;01min\u001b[39;49;00m\u001b[43m \u001b[49m\u001b[43mkwargs\u001b[49m\u001b[38;5;241;43m.\u001b[39;49m\u001b[43mitems\u001b[49m\u001b[43m(\u001b[49m\u001b[43m)\u001b[49m\u001b[43m \u001b[49m\u001b[38;5;28;43;01mif\u001b[39;49;00m\u001b[43m \u001b[49m\u001b[43mk\u001b[49m\u001b[43m \u001b[49m\u001b[38;5;129;43;01mnot\u001b[39;49;00m\u001b[43m \u001b[49m\u001b[38;5;129;43;01min\u001b[39;49;00m\u001b[43m \u001b[49m\u001b[43md\u001b[49m\u001b[43m}\u001b[49m\u001b[43m)\u001b[49m\n",
      "File \u001b[0;32m/sw/external/python/anaconda3_gpu/lib/python3.9/site-packages/matplotlib/axes/_axes.py:1690\u001b[0m, in \u001b[0;36mAxes.plot\u001b[0;34m(self, scalex, scaley, data, *args, **kwargs)\u001b[0m\n\u001b[1;32m   1688\u001b[0m lines \u001b[38;5;241m=\u001b[39m [\u001b[38;5;241m*\u001b[39m\u001b[38;5;28mself\u001b[39m\u001b[38;5;241m.\u001b[39m_get_lines(\u001b[38;5;241m*\u001b[39margs, data\u001b[38;5;241m=\u001b[39mdata, \u001b[38;5;241m*\u001b[39m\u001b[38;5;241m*\u001b[39mkwargs)]\n\u001b[1;32m   1689\u001b[0m \u001b[38;5;28;01mfor\u001b[39;00m line \u001b[38;5;129;01min\u001b[39;00m lines:\n\u001b[0;32m-> 1690\u001b[0m     \u001b[38;5;28;43mself\u001b[39;49m\u001b[38;5;241;43m.\u001b[39;49m\u001b[43madd_line\u001b[49m\u001b[43m(\u001b[49m\u001b[43mline\u001b[49m\u001b[43m)\u001b[49m\n\u001b[1;32m   1691\u001b[0m \u001b[38;5;28;01mif\u001b[39;00m scalex:\n\u001b[1;32m   1692\u001b[0m     \u001b[38;5;28mself\u001b[39m\u001b[38;5;241m.\u001b[39m_request_autoscale_view(\u001b[38;5;124m\"\u001b[39m\u001b[38;5;124mx\u001b[39m\u001b[38;5;124m\"\u001b[39m)\n",
      "File \u001b[0;32m/sw/external/python/anaconda3_gpu/lib/python3.9/site-packages/matplotlib/axes/_base.py:2304\u001b[0m, in \u001b[0;36m_AxesBase.add_line\u001b[0;34m(self, line)\u001b[0m\n\u001b[1;32m   2301\u001b[0m \u001b[38;5;28;01mif\u001b[39;00m line\u001b[38;5;241m.\u001b[39mget_clip_path() \u001b[38;5;129;01mis\u001b[39;00m \u001b[38;5;28;01mNone\u001b[39;00m:\n\u001b[1;32m   2302\u001b[0m     line\u001b[38;5;241m.\u001b[39mset_clip_path(\u001b[38;5;28mself\u001b[39m\u001b[38;5;241m.\u001b[39mpatch)\n\u001b[0;32m-> 2304\u001b[0m \u001b[38;5;28;43mself\u001b[39;49m\u001b[38;5;241;43m.\u001b[39;49m\u001b[43m_update_line_limits\u001b[49m\u001b[43m(\u001b[49m\u001b[43mline\u001b[49m\u001b[43m)\u001b[49m\n\u001b[1;32m   2305\u001b[0m \u001b[38;5;28;01mif\u001b[39;00m \u001b[38;5;129;01mnot\u001b[39;00m line\u001b[38;5;241m.\u001b[39mget_label():\n\u001b[1;32m   2306\u001b[0m     line\u001b[38;5;241m.\u001b[39mset_label(\u001b[38;5;124mf\u001b[39m\u001b[38;5;124m'\u001b[39m\u001b[38;5;124m_child\u001b[39m\u001b[38;5;132;01m{\u001b[39;00m\u001b[38;5;28mlen\u001b[39m(\u001b[38;5;28mself\u001b[39m\u001b[38;5;241m.\u001b[39m_children)\u001b[38;5;132;01m}\u001b[39;00m\u001b[38;5;124m'\u001b[39m)\n",
      "File \u001b[0;32m/sw/external/python/anaconda3_gpu/lib/python3.9/site-packages/matplotlib/axes/_base.py:2327\u001b[0m, in \u001b[0;36m_AxesBase._update_line_limits\u001b[0;34m(self, line)\u001b[0m\n\u001b[1;32m   2323\u001b[0m \u001b[38;5;28;01mdef\u001b[39;00m \u001b[38;5;21m_update_line_limits\u001b[39m(\u001b[38;5;28mself\u001b[39m, line):\n\u001b[1;32m   2324\u001b[0m \u001b[38;5;250m    \u001b[39m\u001b[38;5;124;03m\"\"\"\u001b[39;00m\n\u001b[1;32m   2325\u001b[0m \u001b[38;5;124;03m    Figures out the data limit of the given line, updating self.dataLim.\u001b[39;00m\n\u001b[1;32m   2326\u001b[0m \u001b[38;5;124;03m    \"\"\"\u001b[39;00m\n\u001b[0;32m-> 2327\u001b[0m     path \u001b[38;5;241m=\u001b[39m \u001b[43mline\u001b[49m\u001b[38;5;241;43m.\u001b[39;49m\u001b[43mget_path\u001b[49m\u001b[43m(\u001b[49m\u001b[43m)\u001b[49m\n\u001b[1;32m   2328\u001b[0m     \u001b[38;5;28;01mif\u001b[39;00m path\u001b[38;5;241m.\u001b[39mvertices\u001b[38;5;241m.\u001b[39msize \u001b[38;5;241m==\u001b[39m \u001b[38;5;241m0\u001b[39m:\n\u001b[1;32m   2329\u001b[0m         \u001b[38;5;28;01mreturn\u001b[39;00m\n",
      "File \u001b[0;32m/sw/external/python/anaconda3_gpu/lib/python3.9/site-packages/matplotlib/lines.py:1028\u001b[0m, in \u001b[0;36mLine2D.get_path\u001b[0;34m(self)\u001b[0m\n\u001b[1;32m   1026\u001b[0m \u001b[38;5;250m\u001b[39m\u001b[38;5;124;03m\"\"\"Return the `~matplotlib.path.Path` associated with this line.\"\"\"\u001b[39;00m\n\u001b[1;32m   1027\u001b[0m \u001b[38;5;28;01mif\u001b[39;00m \u001b[38;5;28mself\u001b[39m\u001b[38;5;241m.\u001b[39m_invalidy \u001b[38;5;129;01mor\u001b[39;00m \u001b[38;5;28mself\u001b[39m\u001b[38;5;241m.\u001b[39m_invalidx:\n\u001b[0;32m-> 1028\u001b[0m     \u001b[38;5;28;43mself\u001b[39;49m\u001b[38;5;241;43m.\u001b[39;49m\u001b[43mrecache\u001b[49m\u001b[43m(\u001b[49m\u001b[43m)\u001b[49m\n\u001b[1;32m   1029\u001b[0m \u001b[38;5;28;01mreturn\u001b[39;00m \u001b[38;5;28mself\u001b[39m\u001b[38;5;241m.\u001b[39m_path\n",
      "File \u001b[0;32m/sw/external/python/anaconda3_gpu/lib/python3.9/site-packages/matplotlib/lines.py:664\u001b[0m, in \u001b[0;36mLine2D.recache\u001b[0;34m(self, always)\u001b[0m\n\u001b[1;32m    662\u001b[0m \u001b[38;5;28;01mif\u001b[39;00m always \u001b[38;5;129;01mor\u001b[39;00m \u001b[38;5;28mself\u001b[39m\u001b[38;5;241m.\u001b[39m_invalidy:\n\u001b[1;32m    663\u001b[0m     yconv \u001b[38;5;241m=\u001b[39m \u001b[38;5;28mself\u001b[39m\u001b[38;5;241m.\u001b[39mconvert_yunits(\u001b[38;5;28mself\u001b[39m\u001b[38;5;241m.\u001b[39m_yorig)\n\u001b[0;32m--> 664\u001b[0m     y \u001b[38;5;241m=\u001b[39m \u001b[43m_to_unmasked_float_array\u001b[49m\u001b[43m(\u001b[49m\u001b[43myconv\u001b[49m\u001b[43m)\u001b[49m\u001b[38;5;241m.\u001b[39mravel()\n\u001b[1;32m    665\u001b[0m \u001b[38;5;28;01melse\u001b[39;00m:\n\u001b[1;32m    666\u001b[0m     y \u001b[38;5;241m=\u001b[39m \u001b[38;5;28mself\u001b[39m\u001b[38;5;241m.\u001b[39m_y\n",
      "File \u001b[0;32m/sw/external/python/anaconda3_gpu/lib/python3.9/site-packages/matplotlib/cbook/__init__.py:1340\u001b[0m, in \u001b[0;36m_to_unmasked_float_array\u001b[0;34m(x)\u001b[0m\n\u001b[1;32m   1338\u001b[0m     \u001b[38;5;28;01mreturn\u001b[39;00m np\u001b[38;5;241m.\u001b[39mma\u001b[38;5;241m.\u001b[39masarray(x, \u001b[38;5;28mfloat\u001b[39m)\u001b[38;5;241m.\u001b[39mfilled(np\u001b[38;5;241m.\u001b[39mnan)\n\u001b[1;32m   1339\u001b[0m \u001b[38;5;28;01melse\u001b[39;00m:\n\u001b[0;32m-> 1340\u001b[0m     \u001b[38;5;28;01mreturn\u001b[39;00m \u001b[43mnp\u001b[49m\u001b[38;5;241;43m.\u001b[39;49m\u001b[43masarray\u001b[49m\u001b[43m(\u001b[49m\u001b[43mx\u001b[49m\u001b[43m,\u001b[49m\u001b[43m \u001b[49m\u001b[38;5;28;43mfloat\u001b[39;49m\u001b[43m)\u001b[49m\n",
      "File \u001b[0;32m/sw/external/python/anaconda3_gpu/lib/python3.9/site-packages/torch/_tensor.py:1043\u001b[0m, in \u001b[0;36mTensor.__array__\u001b[0;34m(self, dtype)\u001b[0m\n\u001b[1;32m   1041\u001b[0m     \u001b[38;5;28;01mreturn\u001b[39;00m \u001b[38;5;28mself\u001b[39m\u001b[38;5;241m.\u001b[39mnumpy()\n\u001b[1;32m   1042\u001b[0m \u001b[38;5;28;01melse\u001b[39;00m:\n\u001b[0;32m-> 1043\u001b[0m     \u001b[38;5;28;01mreturn\u001b[39;00m \u001b[38;5;28;43mself\u001b[39;49m\u001b[38;5;241;43m.\u001b[39;49m\u001b[43mnumpy\u001b[49m\u001b[43m(\u001b[49m\u001b[43m)\u001b[49m\u001b[38;5;241m.\u001b[39mastype(dtype, copy\u001b[38;5;241m=\u001b[39m\u001b[38;5;28;01mFalse\u001b[39;00m)\n",
      "\u001b[0;31mTypeError\u001b[0m: can't convert cuda:0 device type tensor to numpy. Use Tensor.cpu() to copy the tensor to host memory first."
     ]
    },
    {
     "data": {
      "image/png": "[encoded data removed]",
      "text/plain": [
       "<Figure size 640x480 with 1 Axes>"
      ]
     },
     "metadata": {},
     "output_type": "display_data"
    }
   ],
   "source": [
    "plt.semilogy(S)\n",
    "plt.xlabel(r'$k$')\n",
    "plt.ylabel(r'$\\lambda_k$')\n",
    "plt.title('Spectral decay of AGOP')\n",
    "plt.show()"
   ]
  },
  {
   "cell_type": "code",
   "execution_count": null,
   "id": "5637e65e-6058-4ced-b059-30ba38d48027",
   "metadata": {},
   "outputs": [],
   "source": [
    "S[-20:]"
   ]
  },
  {
   "cell_type": "code",
   "execution_count": null,
   "id": "404833b5-aa4e-42d6-a355-bb6a0fc996d0",
   "metadata": {},
   "outputs": [],
   "source": [
    "u0 = U[:,-1]\n",
    "u1 = U[:,-2]"
   ]
  },
  {
   "cell_type": "code",
   "execution_count": null,
   "id": "de984612-2984-480d-9f96-48a8a429f673",
   "metadata": {},
   "outputs": [],
   "source": [
    "o0 = train_X_deep@u0\n",
    "o1 = train_X_deep@u1"
   ]
  },
  {
   "cell_type": "code",
   "execution_count": null,
   "id": "3f1f82a9-ea9e-4564-8250-0519543d4f37",
   "metadata": {},
   "outputs": [],
   "source": [
    "X0 = train_X_deep @ u0.unsqueeze(1) @ u0.unsqueeze(0)\n",
    "X1 = train_X_deep @ u1.unsqueeze(1) @ u1.unsqueeze(0)"
   ]
  },
  {
   "cell_type": "code",
   "execution_count": 17,
   "id": "f01494f6-3024-4fb8-a8f1-79695f9d9fb6",
   "metadata": {},
   "outputs": [
    {
     "data": {
      "image/png": "[encoded data removed]",
      "text/plain": [
       "<Figure size 640x480 with 2 Axes>"
      ]
     },
     "metadata": {},
     "output_type": "display_data"
    }
   ],
   "source": [
    "fig, (ax1, ax2) = plt.subplots(1,2)\n",
    "ax1.imshow(X0@X0.T)\n",
    "ax2.imshow(X1@X1.T)\n",
    "\n",
    "ax1.set_title(r'$X @ u_1 u_1^\\top$')\n",
    "ax2.set_title(r'$X @ u_2 u_2^\\top$')\n",
    "\n",
    "ax1.set_xticks([])\n",
    "ax2.set_xticks([])\n",
    "ax1.set_yticks([])\n",
    "ax2.set_yticks([])\n",
    "\n",
    "plt.show()"
   ]
  },
  {
   "cell_type": "code",
   "execution_count": null,
   "id": "3164166b-0814-4261-9618-a1516c63fa3e",
   "metadata": {},
   "outputs": [],
   "source": []
  }
 ],
 "metadata": {
  "kernelspec": {
   "display_name": "Python [conda env:.conda-daniel_jax]",
   "language": "python",
   "name": "conda-env-.conda-daniel_jax-py"
  },
  "language_info": {
   "codemirror_mode": {
    "name": "ipython",
    "version": 3
   },
   "file_extension": ".py",
   "mimetype": "text/x-python",
   "name": "python",
   "nbconvert_exporter": "python",
   "pygments_lexer": "ipython3",
   "version": "3.9.18"
  }
 },
 "nbformat": 4,
 "nbformat_minor": 5
}
