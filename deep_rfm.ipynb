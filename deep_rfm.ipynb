{
 "cells": [
  {
   "cell_type": "code",
   "execution_count": 1,
   "id": "09be9fdb",
   "metadata": {},
   "outputs": [],
   "source": [
    "import torch\n",
    "\n",
    "import sys\n",
    "sys.path.insert(0, 'my_rfm')\n",
    "\n",
    "import rfm\n",
    "\n",
    "import torch.nn as nn\n",
    "from tqdm import tqdm\n",
    "import os\n",
    "import matplotlib.pyplot as plt\n",
    "import torchvision\n",
    "import torchvision.transforms as transforms"
   ]
  },
  {
   "cell_type": "code",
   "execution_count": 3,
   "id": "168455e5-f11c-447e-b80c-be02cb8ed925",
   "metadata": {},
   "outputs": [],
   "source": [
    "## variables\n",
    "os.environ[\"DATA_PATH\"]=\"/Users/dbeaglehole/Desktop/Research/data\"\n",
    "dataset = 'cifar'"
   ]
  },
  {
   "cell_type": "code",
   "execution_count": 23,
   "id": "0ea709c4-7e96-4afa-b8bb-6a1a00bef893",
   "metadata": {},
   "outputs": [
    {
     "name": "stdout",
     "output_type": "stream",
     "text": [
      "Files already downloaded and verified\n",
      "Files already downloaded and verified\n"
     ]
    }
   ],
   "source": [
    "def one_hot_data(dataset, num_classes, num_samples):\n",
    "    Xs = []\n",
    "    ys = []\n",
    "\n",
    "    for ix in range(min(len(dataset),num_samples)):\n",
    "        X,y = dataset[ix]\n",
    "        Xs.append(X)\n",
    "\n",
    "        ohe_y = torch.zeros(num_classes)\n",
    "        ohe_y[y] = 1\n",
    "        ys.append(ohe_y)\n",
    "\n",
    "    return torch.stack(Xs), torch.stack(ys)\n",
    "\n",
    "def get_binary(dataset, classes):\n",
    "    c1, c2 = classes\n",
    "    \n",
    "    binary_dataset = []\n",
    "    for ix in tqdm(range(len(dataset))):\n",
    "        X,y = dataset[ix]\n",
    "        \n",
    "        if y==c1:\n",
    "            binary_dataset.append((X,0))\n",
    "        elif y==c2:\n",
    "            binary_dataset.append((X,1))\n",
    "\n",
    "    return binary_dataset\n",
    "\n",
    "NUM_CLASSES = 10\n",
    "\n",
    "if dataset=='mnist':\n",
    "    transform = transforms.Compose(\n",
    "        [\n",
    "            transforms.Resize((28, 28)),\n",
    "            transforms.ToTensor(),\n",
    "        ]\n",
    "    )\n",
    "\n",
    "    path = os.environ[\"DATA_PATH\"] + \"MNIST/\"\n",
    "    trainset = torchvision.datasets.MNIST(root=path,\n",
    "                                        train = True,\n",
    "                                        transform=transform,\n",
    "                                        download=True)\n",
    "    testset = torchvision.datasets.MNIST(root=path,\n",
    "                                        train = False,\n",
    "                                        transform=transform,\n",
    "                                        download=True)\n",
    "elif dataset=='cifar':\n",
    "    transform = transforms.Compose(\n",
    "        [\n",
    "            transforms.Resize((32, 32)),\n",
    "            transforms.ToTensor(),\n",
    "        ]\n",
    "    )\n",
    "\n",
    "    path = os.environ[\"DATA_PATH\"] + \"cifar10/\"\n",
    "\n",
    "    trainset = torchvision.datasets.CIFAR10(root=path,\n",
    "                                            train=True,\n",
    "                                            transform=transform,\n",
    "                                            download=True)\n",
    "    testset = torchvision.datasets.CIFAR10(root=path,\n",
    "                                           train=False,\n",
    "                                           transform=transform,\n",
    "                                           download=True)\n",
    "\n",
    "# class1 = 3\n",
    "# class2 = 5\n",
    "# trainset = get_binary(trainset, classes=(class1, class2))\n",
    "# testset = get_binary(testset, classes=(class1, class2))\n",
    "\n",
    "n=5000\n",
    "NUM_CLASSES = 10\n",
    "train_X, train_y = one_hot_data(trainset, NUM_CLASSES, num_samples=n)\n",
    "test_X, test_y = one_hot_data(testset, NUM_CLASSES, num_samples=n)"
   ]
  },
  {
   "cell_type": "code",
   "execution_count": 24,
   "id": "2417bc3b-2a63-464f-bd84-6be1d1e7a76e",
   "metadata": {},
   "outputs": [
    {
     "name": "stdout",
     "output_type": "stream",
     "text": [
      "torch.Size([5000, 3, 32, 32]) torch.Size([5000, 10])\n"
     ]
    }
   ],
   "source": [
    "## reorder data\n",
    "newXs = []\n",
    "newYs = []\n",
    "for c in range(NUM_CLASSES):\n",
    "    class1_idx = train_y[:,c] == 1\n",
    "    newYs.append(train_y[class1_idx])\n",
    "    newXs.append(train_X[class1_idx])\n",
    "\n",
    "train_X = torch.concat(newXs,dim=0)\n",
    "train_y = torch.concat(newYs,dim=0)\n",
    "print(train_X.shape, train_y.shape)"
   ]
  },
  {
   "cell_type": "code",
   "execution_count": 25,
   "id": "2d3a7548-21a3-4a9b-8a12-f3b23ef21154",
   "metadata": {},
   "outputs": [],
   "source": [
    "def matrix_sqrt(M):\n",
    "    S, V = torch.linalg.eigh(M)\n",
    "    S[S<0] = 0\n",
    "    S = torch.diag(S**0.5)\n",
    "    return V @ S @ V.T\n",
    "    \n",
    "class Activation(nn.Module):\n",
    "    def __init__(self):\n",
    "        super(Activation, self).__init__()\n",
    "    def forward(self, x):\n",
    "        return nn.ReLU()(x)\n",
    "    \n",
    "def sample_feats(M, d, k):\n",
    "    weight_fn = nn.Linear(d, k, bias=False)\n",
    "    weight_fn.weight = nn.Parameter(weight_fn.weight@M, requires_grad=False)\n",
    "    return nn.Sequential(weight_fn, \n",
    "                      Activation()\n",
    "                     )"
   ]
  },
  {
   "cell_type": "code",
   "execution_count": 26,
   "id": "50521e20",
   "metadata": {},
   "outputs": [
    {
     "name": "stdout",
     "output_type": "stream",
     "text": [
      "Depth 0 of DeepRFM\n",
      "Round 0, Train Acc: 100.00%\n",
      "Round 0, Test Acc: 47.88%\n",
      "Round 0, Test MSE: 0.0708\n",
      "Using batch size of 47232\n"
     ]
    },
    {
     "data": {
      "application/vnd.jupyter.widget-view+json": {
       "model_id": "7ea789a66cc047b3b431335917b529c4",
       "version_major": 2,
       "version_minor": 0
      },
      "text/plain": [
       "  0%|          | 0/1 [00:00<?, ?it/s]"
      ]
     },
     "metadata": {},
     "output_type": "display_data"
    },
    {
     "name": "stdout",
     "output_type": "stream",
     "text": [
      "Round 1, Train Acc: 100.00%\n",
      "Round 1, Test Acc: 43.00%\n",
      "Round 1, Test MSE: 0.0770\n",
      "Using batch size of 47232\n"
     ]
    },
    {
     "data": {
      "application/vnd.jupyter.widget-view+json": {
       "model_id": "010ed11efac64795b9f8b90564f240fa",
       "version_major": 2,
       "version_minor": 0
      },
      "text/plain": [
       "  0%|          | 0/1 [00:00<?, ?it/s]"
      ]
     },
     "metadata": {},
     "output_type": "display_data"
    },
    {
     "name": "stdout",
     "output_type": "stream",
     "text": [
      "Round 2, Train Acc: 100.00%\n",
      "Round 2, Test Acc: 40.90%\n",
      "Round 2, Test MSE: 0.0805\n",
      "Using batch size of 47232\n"
     ]
    },
    {
     "data": {
      "application/vnd.jupyter.widget-view+json": {
       "model_id": "6f6d97f953474a7fa4c525e6bfdf2d32",
       "version_major": 2,
       "version_minor": 0
      },
      "text/plain": [
       "  0%|          | 0/1 [00:00<?, ?it/s]"
      ]
     },
     "metadata": {},
     "output_type": "display_data"
    },
    {
     "name": "stdout",
     "output_type": "stream",
     "text": [
      "Round 3, Train Acc: 100.00%\n",
      "Round 3, Test Acc: 39.04%\n",
      "Round 3, Test MSE: 0.0827\n",
      "Using batch size of 47232\n"
     ]
    },
    {
     "data": {
      "application/vnd.jupyter.widget-view+json": {
       "model_id": "1f8b933ebe41498a802395b504eff2ee",
       "version_major": 2,
       "version_minor": 0
      },
      "text/plain": [
       "  0%|          | 0/1 [00:00<?, ?it/s]"
      ]
     },
     "metadata": {},
     "output_type": "display_data"
    },
    {
     "ename": "KeyboardInterrupt",
     "evalue": "",
     "output_type": "error",
     "traceback": [
      "\u001b[0;31m---------------------------------------------------------------------------\u001b[0m",
      "\u001b[0;31mKeyboardInterrupt\u001b[0m                         Traceback (most recent call last)",
      "Cell \u001b[0;32mIn[26], line 20\u001b[0m\n\u001b[1;32m     18\u001b[0m plt\u001b[38;5;241m.\u001b[39mclose()\n\u001b[1;32m     19\u001b[0m model \u001b[38;5;241m=\u001b[39m rfm\u001b[38;5;241m.\u001b[39mLaplaceRFM(bandwidth\u001b[38;5;241m=\u001b[39m\u001b[38;5;241m10\u001b[39m, device\u001b[38;5;241m=\u001b[39m\u001b[38;5;124m\"\u001b[39m\u001b[38;5;124mcpu\u001b[39m\u001b[38;5;124m\"\u001b[39m)\n\u001b[0;32m---> 20\u001b[0m \u001b[43mmodel\u001b[49m\u001b[38;5;241;43m.\u001b[39;49m\u001b[43mfit\u001b[49m\u001b[43m(\u001b[49m\n\u001b[1;32m     21\u001b[0m \u001b[43m    \u001b[49m\u001b[43m(\u001b[49m\u001b[43mtrain_X_deep\u001b[49m\u001b[43m,\u001b[49m\u001b[43m \u001b[49m\u001b[43mtrain_y\u001b[49m\u001b[43m)\u001b[49m\u001b[43m,\u001b[49m\u001b[43m \u001b[49m\n\u001b[1;32m     22\u001b[0m \u001b[43m    \u001b[49m\u001b[43m(\u001b[49m\u001b[43mtest_X_deep\u001b[49m\u001b[43m,\u001b[49m\u001b[43m \u001b[49m\u001b[43mtest_y\u001b[49m\u001b[43m)\u001b[49m\u001b[43m,\u001b[49m\u001b[43m \u001b[49m\n\u001b[1;32m     23\u001b[0m \u001b[43m    \u001b[49m\u001b[43mloader\u001b[49m\u001b[38;5;241;43m=\u001b[39;49m\u001b[38;5;28;43;01mFalse\u001b[39;49;00m\u001b[43m,\u001b[49m\u001b[43m \u001b[49m\n\u001b[1;32m     24\u001b[0m \u001b[43m    \u001b[49m\u001b[43miters\u001b[49m\u001b[38;5;241;43m=\u001b[39;49m\u001b[43mITERS\u001b[49m\u001b[43m,\u001b[49m\n\u001b[1;32m     25\u001b[0m \u001b[43m    \u001b[49m\u001b[43mclassif\u001b[49m\u001b[38;5;241;43m=\u001b[39;49m\u001b[38;5;28;43;01mTrue\u001b[39;49;00m\u001b[43m,\u001b[49m\n\u001b[1;32m     26\u001b[0m \u001b[43m    \u001b[49m\u001b[43mreg\u001b[49m\u001b[38;5;241;43m=\u001b[39;49m\u001b[38;5;241;43m0.\u001b[39;49m\n\u001b[1;32m     27\u001b[0m \u001b[43m\u001b[49m\u001b[43m)\u001b[49m\n\u001b[1;32m     29\u001b[0m _, d \u001b[38;5;241m=\u001b[39m train_X_deep\u001b[38;5;241m.\u001b[39mshape\n\u001b[1;32m     31\u001b[0m feature_fn \u001b[38;5;241m=\u001b[39m sample_feats(matrix_sqrt(model\u001b[38;5;241m.\u001b[39mM), d, WIDTH)\n",
      "File \u001b[0;32m~/Desktop/Research/neural_collapse/my_rfm/rfm/recursive_feature_machine.py:101\u001b[0m, in \u001b[0;36mRecursiveFeatureMachine.fit\u001b[0;34m(self, train_loader, test_loader, iters, name, reg, method, train_acc, loader, classif, return_mse, **kwargs)\u001b[0m\n\u001b[1;32m     98\u001b[0m \u001b[38;5;28mself\u001b[39m\u001b[38;5;241m.\u001b[39mfit_predictor(X_train, y_train, \u001b[38;5;241m*\u001b[39m\u001b[38;5;241m*\u001b[39mkwargs)\n\u001b[1;32m    100\u001b[0m \u001b[38;5;28;01mif\u001b[39;00m classif:\n\u001b[0;32m--> 101\u001b[0m     train_acc \u001b[38;5;241m=\u001b[39m \u001b[38;5;28;43mself\u001b[39;49m\u001b[38;5;241;43m.\u001b[39;49m\u001b[43mscore\u001b[49m\u001b[43m(\u001b[49m\u001b[43mX_train\u001b[49m\u001b[43m,\u001b[49m\u001b[43m \u001b[49m\u001b[43my_train\u001b[49m\u001b[43m,\u001b[49m\u001b[43m \u001b[49m\u001b[43mmetric\u001b[49m\u001b[38;5;241;43m=\u001b[39;49m\u001b[38;5;124;43m'\u001b[39;49m\u001b[38;5;124;43maccuracy\u001b[39;49m\u001b[38;5;124;43m'\u001b[39;49m\u001b[43m)\u001b[49m\n\u001b[1;32m    102\u001b[0m     \u001b[38;5;28mprint\u001b[39m(\u001b[38;5;124mf\u001b[39m\u001b[38;5;124m\"\u001b[39m\u001b[38;5;124mRound \u001b[39m\u001b[38;5;132;01m{\u001b[39;00mi\u001b[38;5;132;01m}\u001b[39;00m\u001b[38;5;124m, Train Acc: \u001b[39m\u001b[38;5;132;01m{\u001b[39;00m\u001b[38;5;241m100\u001b[39m\u001b[38;5;241m*\u001b[39mtrain_acc\u001b[38;5;132;01m:\u001b[39;00m\u001b[38;5;124m.2f\u001b[39m\u001b[38;5;132;01m}\u001b[39;00m\u001b[38;5;124m%\u001b[39m\u001b[38;5;124m\"\u001b[39m)\n\u001b[1;32m    103\u001b[0m     test_acc \u001b[38;5;241m=\u001b[39m \u001b[38;5;28mself\u001b[39m\u001b[38;5;241m.\u001b[39mscore(X_test, y_test, metric\u001b[38;5;241m=\u001b[39m\u001b[38;5;124m'\u001b[39m\u001b[38;5;124maccuracy\u001b[39m\u001b[38;5;124m'\u001b[39m)\n",
      "File \u001b[0;32m~/Desktop/Research/neural_collapse/my_rfm/rfm/recursive_feature_machine.py:173\u001b[0m, in \u001b[0;36mRecursiveFeatureMachine.score\u001b[0;34m(self, samples, targets, metric)\u001b[0m\n\u001b[1;32m    172\u001b[0m \u001b[38;5;28;01mdef\u001b[39;00m \u001b[38;5;21mscore\u001b[39m(\u001b[38;5;28mself\u001b[39m, samples, targets, metric\u001b[38;5;241m=\u001b[39m\u001b[38;5;124m'\u001b[39m\u001b[38;5;124mmse\u001b[39m\u001b[38;5;124m'\u001b[39m):\n\u001b[0;32m--> 173\u001b[0m     preds \u001b[38;5;241m=\u001b[39m \u001b[38;5;28;43mself\u001b[39;49m\u001b[38;5;241;43m.\u001b[39;49m\u001b[43mpredict\u001b[49m\u001b[43m(\u001b[49m\u001b[43msamples\u001b[49m\u001b[43m)\u001b[49m\n\u001b[1;32m    174\u001b[0m     \u001b[38;5;28;01mif\u001b[39;00m metric\u001b[38;5;241m==\u001b[39m\u001b[38;5;124m'\u001b[39m\u001b[38;5;124maccuracy\u001b[39m\u001b[38;5;124m'\u001b[39m:\n\u001b[1;32m    175\u001b[0m         \u001b[38;5;28;01mif\u001b[39;00m preds\u001b[38;5;241m.\u001b[39mshape[\u001b[38;5;241m-\u001b[39m\u001b[38;5;241m1\u001b[39m]\u001b[38;5;241m==\u001b[39m\u001b[38;5;241m1\u001b[39m:\n",
      "File \u001b[0;32m~/Desktop/Research/neural_collapse/my_rfm/rfm/recursive_feature_machine.py:73\u001b[0m, in \u001b[0;36mRecursiveFeatureMachine.predict\u001b[0;34m(self, samples)\u001b[0m\n\u001b[1;32m     72\u001b[0m \u001b[38;5;28;01mdef\u001b[39;00m \u001b[38;5;21mpredict\u001b[39m(\u001b[38;5;28mself\u001b[39m, samples):\n\u001b[0;32m---> 73\u001b[0m     \u001b[38;5;28;01mreturn\u001b[39;00m \u001b[38;5;28;43mself\u001b[39;49m\u001b[38;5;241;43m.\u001b[39;49m\u001b[43mkernel\u001b[49m\u001b[43m(\u001b[49m\u001b[43msamples\u001b[49m\u001b[43m,\u001b[49m\u001b[43m \u001b[49m\u001b[38;5;28;43mself\u001b[39;49m\u001b[38;5;241;43m.\u001b[39;49m\u001b[43mcenters\u001b[49m\u001b[43m)\u001b[49m \u001b[38;5;241m@\u001b[39m \u001b[38;5;28mself\u001b[39m\u001b[38;5;241m.\u001b[39mweights\n",
      "File \u001b[0;32m~/Desktop/Research/neural_collapse/my_rfm/rfm/recursive_feature_machine.py:202\u001b[0m, in \u001b[0;36mLaplaceRFM.__init__.<locals>.<lambda>\u001b[0;34m(x, z)\u001b[0m\n\u001b[1;32m    200\u001b[0m \u001b[38;5;28msuper\u001b[39m()\u001b[38;5;241m.\u001b[39m\u001b[38;5;21m__init__\u001b[39m(\u001b[38;5;241m*\u001b[39m\u001b[38;5;241m*\u001b[39mkwargs)\n\u001b[1;32m    201\u001b[0m \u001b[38;5;28mself\u001b[39m\u001b[38;5;241m.\u001b[39mbandwidth \u001b[38;5;241m=\u001b[39m bandwidth\n\u001b[0;32m--> 202\u001b[0m \u001b[38;5;28mself\u001b[39m\u001b[38;5;241m.\u001b[39mkernel \u001b[38;5;241m=\u001b[39m \u001b[38;5;28;01mlambda\u001b[39;00m x, z: \u001b[43mlaplacian_M\u001b[49m\u001b[43m(\u001b[49m\u001b[43mx\u001b[49m\u001b[43m,\u001b[49m\u001b[43m \u001b[49m\u001b[43mz\u001b[49m\u001b[43m,\u001b[49m\u001b[43m \u001b[49m\u001b[38;5;28;43mself\u001b[39;49m\u001b[38;5;241;43m.\u001b[39;49m\u001b[43mM\u001b[49m\u001b[43m,\u001b[49m\u001b[43m \u001b[49m\u001b[38;5;28;43mself\u001b[39;49m\u001b[38;5;241;43m.\u001b[39;49m\u001b[43mbandwidth\u001b[49m\u001b[43m)\u001b[49m\n",
      "File \u001b[0;32m~/Desktop/Research/neural_collapse/my_rfm/rfm/kernels.py:82\u001b[0m, in \u001b[0;36mlaplacian_M\u001b[0;34m(samples, centers, M, bandwidth)\u001b[0m\n\u001b[1;32m     80\u001b[0m \u001b[38;5;28;01mdef\u001b[39;00m \u001b[38;5;21mlaplacian_M\u001b[39m(samples, centers, M, bandwidth):\n\u001b[1;32m     81\u001b[0m     \u001b[38;5;28;01massert\u001b[39;00m bandwidth \u001b[38;5;241m>\u001b[39m \u001b[38;5;241m0\u001b[39m\n\u001b[0;32m---> 82\u001b[0m     kernel_mat \u001b[38;5;241m=\u001b[39m \u001b[43meuclidean_distances_M\u001b[49m\u001b[43m(\u001b[49m\u001b[43msamples\u001b[49m\u001b[43m,\u001b[49m\u001b[43m \u001b[49m\u001b[43mcenters\u001b[49m\u001b[43m,\u001b[49m\u001b[43m \u001b[49m\u001b[43mM\u001b[49m\u001b[43m,\u001b[49m\u001b[43m \u001b[49m\u001b[43msquared\u001b[49m\u001b[38;5;241;43m=\u001b[39;49m\u001b[38;5;28;43;01mFalse\u001b[39;49;00m\u001b[43m)\u001b[49m\n\u001b[1;32m     83\u001b[0m     kernel_mat\u001b[38;5;241m.\u001b[39mclamp_(\u001b[38;5;28mmin\u001b[39m\u001b[38;5;241m=\u001b[39m\u001b[38;5;241m0\u001b[39m)\n\u001b[1;32m     84\u001b[0m     gamma \u001b[38;5;241m=\u001b[39m \u001b[38;5;241m1.\u001b[39m \u001b[38;5;241m/\u001b[39m bandwidth\n",
      "File \u001b[0;32m~/Desktop/Research/neural_collapse/my_rfm/rfm/kernels.py:33\u001b[0m, in \u001b[0;36meuclidean_distances_M\u001b[0;34m(samples, centers, M, squared)\u001b[0m\n\u001b[1;32m     30\u001b[0m     centers_norm2 \u001b[38;5;241m=\u001b[39m ((centers \u001b[38;5;241m@\u001b[39m M) \u001b[38;5;241m*\u001b[39m centers)\u001b[38;5;241m.\u001b[39msum(\u001b[38;5;241m-\u001b[39m\u001b[38;5;241m1\u001b[39m)\n\u001b[1;32m     32\u001b[0m distances \u001b[38;5;241m=\u001b[39m \u001b[38;5;241m-\u001b[39m\u001b[38;5;241m2\u001b[39m \u001b[38;5;241m*\u001b[39m (samples \u001b[38;5;241m@\u001b[39m M) \u001b[38;5;241m@\u001b[39m centers\u001b[38;5;241m.\u001b[39mT\n\u001b[0;32m---> 33\u001b[0m distances\u001b[38;5;241m.\u001b[39madd_(\u001b[43msamples_norm2\u001b[49m\u001b[38;5;241;43m.\u001b[39;49m\u001b[43mview\u001b[49m\u001b[43m(\u001b[49m\u001b[38;5;241;43m-\u001b[39;49m\u001b[38;5;241;43m1\u001b[39;49m\u001b[43m,\u001b[49m\u001b[43m \u001b[49m\u001b[38;5;241;43m1\u001b[39;49m\u001b[43m)\u001b[49m)\n\u001b[1;32m     34\u001b[0m distances\u001b[38;5;241m.\u001b[39madd_(centers_norm2)\n\u001b[1;32m     36\u001b[0m \u001b[38;5;28;01mif\u001b[39;00m \u001b[38;5;129;01mnot\u001b[39;00m squared:\n",
      "\u001b[0;31mKeyboardInterrupt\u001b[0m: "
     ]
    }
   ],
   "source": [
    "DEPTH = 14\n",
    "ITERS = 7\n",
    "WIDTH = 1024\n",
    "\n",
    "train_X_deep = train_X.reshape(len(train_X),-1) \n",
    "test_X_deep = test_X.reshape(len(test_X),-1)\n",
    "\n",
    "\n",
    "for dep in range(DEPTH):\n",
    "    print(f'Depth {dep} of DeepRFM')\n",
    "\n",
    "    train_X_deep /= train_X_deep.norm(dim=-1).unsqueeze(1)\n",
    "    test_X_deep /= test_X_deep.norm(dim=-1).unsqueeze(1)\n",
    "    \n",
    "    plt.imshow(train_X_deep@train_X_deep.T)\n",
    "    plt.colorbar()\n",
    "    plt.savefig(f'figures/dataset_{dataset}_layer_{dep}_inner_product_matrix_deepRFM',format='pdf')\n",
    "    plt.close()\n",
    "    model = rfm.LaplaceRFM(bandwidth=10, device=\"cpu\")\n",
    "    model.fit(\n",
    "        (train_X_deep, train_y), \n",
    "        (test_X_deep, test_y), \n",
    "        loader=False, \n",
    "        iters=ITERS,\n",
    "        classif=True,\n",
    "        reg=0.\n",
    "    )\n",
    "\n",
    "    _, d = train_X_deep.shape\n",
    "\n",
    "    feature_fn = sample_feats(matrix_sqrt(model.M), d, WIDTH)\n",
    "    train_X_deep = feature_fn(train_X_deep)\n",
    "    test_X_deep = feature_fn(test_X_deep)\n",
    "    print('\\n\\n')\n",
    "    "
   ]
  },
  {
   "cell_type": "code",
   "execution_count": null,
   "id": "def1347a-f8dd-43a9-8b67-396bc3b87870",
   "metadata": {},
   "outputs": [],
   "source": [
    "S, U = torch.linalg.eigh(model.M)"
   ]
  },
  {
   "cell_type": "code",
   "execution_count": null,
   "id": "76c68515-5fde-4802-a035-940a97bcd077",
   "metadata": {},
   "outputs": [],
   "source": [
    "plt.semilogy(S)\n",
    "plt.xlabel(r'$k$')\n",
    "plt.ylabel(r'$\\lambda_k$')\n",
    "plt.title('Spectral decay of AGOP')\n",
    "plt.show()"
   ]
  },
  {
   "cell_type": "code",
   "execution_count": null,
   "id": "5637e65e-6058-4ced-b059-30ba38d48027",
   "metadata": {},
   "outputs": [],
   "source": [
    "S[-20:]"
   ]
  },
  {
   "cell_type": "code",
   "execution_count": null,
   "id": "404833b5-aa4e-42d6-a355-bb6a0fc996d0",
   "metadata": {},
   "outputs": [],
   "source": [
    "u0 = U[:,-1]\n",
    "u1 = U[:,-2]"
   ]
  },
  {
   "cell_type": "code",
   "execution_count": null,
   "id": "de984612-2984-480d-9f96-48a8a429f673",
   "metadata": {},
   "outputs": [],
   "source": [
    "o0 = train_X_deep@u0\n",
    "o1 = train_X_deep@u1"
   ]
  },
  {
   "cell_type": "code",
   "execution_count": null,
   "id": "3f1f82a9-ea9e-4564-8250-0519543d4f37",
   "metadata": {},
   "outputs": [],
   "source": [
    "X0 = train_X_deep @ u0.unsqueeze(1) @ u0.unsqueeze(0)\n",
    "X1 = train_X_deep @ u1.unsqueeze(1) @ u1.unsqueeze(0)"
   ]
  },
  {
   "cell_type": "code",
   "execution_count": 17,
   "id": "f01494f6-3024-4fb8-a8f1-79695f9d9fb6",
   "metadata": {},
   "outputs": [
    {
     "data": {
      "image/png": "[encoded data removed]",
      "text/plain": [
       "<Figure size 640x480 with 2 Axes>"
      ]
     },
     "metadata": {},
     "output_type": "display_data"
    }
   ],
   "source": [
    "fig, (ax1, ax2) = plt.subplots(1,2)\n",
    "ax1.imshow(X0@X0.T)\n",
    "ax2.imshow(X1@X1.T)\n",
    "\n",
    "ax1.set_title(r'$X @ u_1 u_1^\\top$')\n",
    "ax2.set_title(r'$X @ u_2 u_2^\\top$')\n",
    "\n",
    "ax1.set_xticks([])\n",
    "ax2.set_xticks([])\n",
    "ax1.set_yticks([])\n",
    "ax2.set_yticks([])\n",
    "\n",
    "plt.show()"
   ]
  },
  {
   "cell_type": "code",
   "execution_count": null,
   "id": "3164166b-0814-4261-9618-a1516c63fa3e",
   "metadata": {},
   "outputs": [],
   "source": []
  }
 ],
 "metadata": {
  "kernelspec": {
   "display_name": "Python 3 (ipykernel)",
   "language": "python",
   "name": "python3"
  },
  "language_info": {
   "codemirror_mode": {
    "name": "ipython",
    "version": 3
   },
   "file_extension": ".py",
   "mimetype": "text/x-python",
   "name": "python",
   "nbconvert_exporter": "python",
   "pygments_lexer": "ipython3",
   "version": "3.10.13"
  }
 },
 "nbformat": 4,
 "nbformat_minor": 5
}
